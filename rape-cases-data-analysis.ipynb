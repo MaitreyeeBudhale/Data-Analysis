{
 "cells": [
  {
   "cell_type": "markdown",
   "id": "d1eafabb",
   "metadata": {
    "papermill": {
     "duration": 0.007408,
     "end_time": "2025-05-29T18:08:29.449531",
     "exception": false,
     "start_time": "2025-05-29T18:08:29.442123",
     "status": "completed"
    },
    "tags": []
   },
   "source": [
    "# 0. Load Data"
   ]
  },
  {
   "cell_type": "markdown",
   "id": "24c72d52",
   "metadata": {
    "papermill": {
     "duration": 0.006029,
     "end_time": "2025-05-29T18:08:29.462989",
     "exception": false,
     "start_time": "2025-05-29T18:08:29.456960",
     "status": "completed"
    },
    "tags": []
   },
   "source": [
    "## 0.1 Import Libraries"
   ]
  },
  {
   "cell_type": "code",
   "execution_count": 1,
   "id": "47960c9f",
   "metadata": {
    "execution": {
     "iopub.execute_input": "2025-05-29T18:08:29.477804Z",
     "iopub.status.busy": "2025-05-29T18:08:29.477483Z",
     "iopub.status.idle": "2025-05-29T18:08:31.581296Z",
     "shell.execute_reply": "2025-05-29T18:08:31.580354Z"
    },
    "papermill": {
     "duration": 2.113165,
     "end_time": "2025-05-29T18:08:31.582914",
     "exception": false,
     "start_time": "2025-05-29T18:08:29.469749",
     "status": "completed"
    },
    "tags": []
   },
   "outputs": [],
   "source": [
    "import pandas as pd\n",
    "import numpy as np\n",
    "import os\n",
    "import matplotlib.pyplot as plt"
   ]
  },
  {
   "cell_type": "markdown",
   "id": "49b4bc0e",
   "metadata": {
    "papermill": {
     "duration": 0.006091,
     "end_time": "2025-05-29T18:08:31.595661",
     "exception": false,
     "start_time": "2025-05-29T18:08:31.589570",
     "status": "completed"
    },
    "tags": []
   },
   "source": [
    "## 0.2 Define Dataset"
   ]
  },
  {
   "cell_type": "code",
   "execution_count": 2,
   "id": "b5307b16",
   "metadata": {
    "execution": {
     "iopub.execute_input": "2025-05-29T18:08:31.609569Z",
     "iopub.status.busy": "2025-05-29T18:08:31.609169Z",
     "iopub.status.idle": "2025-05-29T18:08:31.619204Z",
     "shell.execute_reply": "2025-05-29T18:08:31.618356Z"
    },
    "papermill": {
     "duration": 0.018815,
     "end_time": "2025-05-29T18:08:31.620842",
     "exception": false,
     "start_time": "2025-05-29T18:08:31.602027",
     "status": "completed"
    },
    "tags": []
   },
   "outputs": [],
   "source": [
    "data_paths = os.listdir(path='/kaggle/input/rape-cases-in-india-by-statecity')\n",
    "\n",
    "# Removing files that are not part of the 2001–2011 range\n",
    "data_paths.remove('NCRB_CII-2019_Table_3A.11.csv')\n",
    "data_paths.remove('Table_5.3-2015.csv')\n",
    "\n",
    "# Sorting the filenames to ensure chronological order\n",
    "data_paths.sort()"
   ]
  },
  {
   "cell_type": "code",
   "execution_count": 3,
   "id": "bba1a6e0",
   "metadata": {
    "execution": {
     "iopub.execute_input": "2025-05-29T18:08:31.635520Z",
     "iopub.status.busy": "2025-05-29T18:08:31.635205Z",
     "iopub.status.idle": "2025-05-29T18:08:31.664694Z",
     "shell.execute_reply": "2025-05-29T18:08:31.663909Z"
    },
    "papermill": {
     "duration": 0.038765,
     "end_time": "2025-05-29T18:08:31.666512",
     "exception": false,
     "start_time": "2025-05-29T18:08:31.627747",
     "status": "completed"
    },
    "tags": []
   },
   "outputs": [],
   "source": [
    "# Reading the first CSV file (for the year 2001)\n",
    "df = pd.read_csv(f'/kaggle/input/rape-cases-in-india-by-statecity/{data_paths[0]}')\n",
    "\n",
    "# Saving the column names for reference\n",
    "columns = df.columns\n",
    "\n",
    "# Extracting the year from the filename\n",
    "year = int(data_paths[0].split('_')[1])\n",
    "\n",
    "# Adding a 'Year' column to the dataframe\n",
    "df['Year'] = [year] * df.shape[0]"
   ]
  },
  {
   "cell_type": "code",
   "execution_count": 4,
   "id": "c7ba9daa",
   "metadata": {
    "execution": {
     "iopub.execute_input": "2025-05-29T18:08:31.681248Z",
     "iopub.status.busy": "2025-05-29T18:08:31.680419Z",
     "iopub.status.idle": "2025-05-29T18:08:31.742752Z",
     "shell.execute_reply": "2025-05-29T18:08:31.741933Z"
    },
    "papermill": {
     "duration": 0.071441,
     "end_time": "2025-05-29T18:08:31.744416",
     "exception": false,
     "start_time": "2025-05-29T18:08:31.672975",
     "status": "completed"
    },
    "tags": []
   },
   "outputs": [],
   "source": [
    "# Looping through the remaining files and merging them into one DataFrame\n",
    "for data_path in data_paths[1:]:\n",
    "    data = pd.read_csv(f'/kaggle/input/rape-cases-in-india-by-statecity/{data_path}')\n",
    "    \n",
    "    # Extract the year from the filename\n",
    "    year = int((data_path.split('_')[1]).split('-')[0])\n",
    "    \n",
    "    # Drop 'Sr. No.' column for 2006 as it's not consistent with other files\n",
    "    if year == 2006:\n",
    "        data.drop('Sr. No.', axis=1, inplace=True)\n",
    "    \n",
    "    # Rename columns to match the initial DataFrame\n",
    "    data.columns = columns\n",
    "    \n",
    "    # Add the 'Year' column\n",
    "    data['Year'] = [year] * data.shape[0]\n",
    "    \n",
    "    # Concatenate with the main DataFrame\n",
    "    df = pd.concat([df, data])\n",
    "\n",
    "# Resetting index and converting Year to string for plotting\n",
    "df.reset_index(drop=True, inplace=True)\n",
    "df['Year'] = df['Year'].astype(str)"
   ]
  },
  {
   "cell_type": "code",
   "execution_count": 5,
   "id": "43a19593",
   "metadata": {
    "execution": {
     "iopub.execute_input": "2025-05-29T18:08:31.759379Z",
     "iopub.status.busy": "2025-05-29T18:08:31.759059Z",
     "iopub.status.idle": "2025-05-29T18:08:31.796762Z",
     "shell.execute_reply": "2025-05-29T18:08:31.795738Z"
    },
    "papermill": {
     "duration": 0.046791,
     "end_time": "2025-05-29T18:08:31.798378",
     "exception": false,
     "start_time": "2025-05-29T18:08:31.751587",
     "status": "completed"
    },
    "tags": []
   },
   "outputs": [
    {
     "data": {
      "text/html": [
       "<div>\n",
       "<style scoped>\n",
       "    .dataframe tbody tr th:only-of-type {\n",
       "        vertical-align: middle;\n",
       "    }\n",
       "\n",
       "    .dataframe tbody tr th {\n",
       "        vertical-align: top;\n",
       "    }\n",
       "\n",
       "    .dataframe thead th {\n",
       "        text-align: right;\n",
       "    }\n",
       "</style>\n",
       "<table border=\"1\" class=\"dataframe\">\n",
       "  <thead>\n",
       "    <tr style=\"text-align: right;\">\n",
       "      <th></th>\n",
       "      <th>Category</th>\n",
       "      <th>States/UTs/Cities</th>\n",
       "      <th>No. of Cases Reported (Incest Rape Cases)</th>\n",
       "      <th>No. of Victims (Incest Rape Cases) upto 10 Years</th>\n",
       "      <th>No. of Victims (Incest Rape Cases) - 10 - 14 Years</th>\n",
       "      <th>No. of Victims (Incest Rape Cases) - 14 - 18 Years</th>\n",
       "      <th>No. of Victims (Incest Rape Cases) - 18 - 30 Years</th>\n",
       "      <th>No. of Victims (Incest Rape Cases) - 30 - 50 Years</th>\n",
       "      <th>No. of Victims (Incest Rape Cases) above 50 Years</th>\n",
       "      <th>No. of Victims (Incest Rape Cases) - Total Victims</th>\n",
       "      <th>...</th>\n",
       "      <th>No. of Victims (Other Rape Cases) - Total Victims</th>\n",
       "      <th>No. of Cases Reported (Total Rape Cases)</th>\n",
       "      <th>No. of Victims (Total Rape Cases) upto 10 Years</th>\n",
       "      <th>No. of Victims (Total Rape Cases) - 10-14 Years</th>\n",
       "      <th>No. of Victims (Total Rape Cases) - 14 - 18 Years</th>\n",
       "      <th>No. of Victims (Total Rape Cases) - 18 - 30 Years</th>\n",
       "      <th>No. of Victims (Total Rape Cases) - 30 - 50 Years</th>\n",
       "      <th>No. of Victims (Total Rape Cases) above 50 Years</th>\n",
       "      <th>No. of Victims (Total Rape Cases) - Total Victims</th>\n",
       "      <th>Year</th>\n",
       "    </tr>\n",
       "  </thead>\n",
       "  <tbody>\n",
       "    <tr>\n",
       "      <th>0</th>\n",
       "      <td>State</td>\n",
       "      <td>Andhra Pradesh</td>\n",
       "      <td>4.0</td>\n",
       "      <td>0.0</td>\n",
       "      <td>2.0</td>\n",
       "      <td>0.0</td>\n",
       "      <td>2.0</td>\n",
       "      <td>0.0</td>\n",
       "      <td>0.0</td>\n",
       "      <td>4.0</td>\n",
       "      <td>...</td>\n",
       "      <td>867.0</td>\n",
       "      <td>871.0</td>\n",
       "      <td>57.0</td>\n",
       "      <td>138.0</td>\n",
       "      <td>254.0</td>\n",
       "      <td>328.0</td>\n",
       "      <td>80.0</td>\n",
       "      <td>14.0</td>\n",
       "      <td>871.0</td>\n",
       "      <td>2001</td>\n",
       "    </tr>\n",
       "    <tr>\n",
       "      <th>1</th>\n",
       "      <td>State</td>\n",
       "      <td>Arunachal Pradesh</td>\n",
       "      <td>0.0</td>\n",
       "      <td>0.0</td>\n",
       "      <td>0.0</td>\n",
       "      <td>0.0</td>\n",
       "      <td>0.0</td>\n",
       "      <td>0.0</td>\n",
       "      <td>0.0</td>\n",
       "      <td>0.0</td>\n",
       "      <td>...</td>\n",
       "      <td>33.0</td>\n",
       "      <td>33.0</td>\n",
       "      <td>0.0</td>\n",
       "      <td>0.0</td>\n",
       "      <td>1.0</td>\n",
       "      <td>28.0</td>\n",
       "      <td>4.0</td>\n",
       "      <td>0.0</td>\n",
       "      <td>33.0</td>\n",
       "      <td>2001</td>\n",
       "    </tr>\n",
       "    <tr>\n",
       "      <th>2</th>\n",
       "      <td>State</td>\n",
       "      <td>Assam</td>\n",
       "      <td>8.0</td>\n",
       "      <td>0.0</td>\n",
       "      <td>1.0</td>\n",
       "      <td>7.0</td>\n",
       "      <td>0.0</td>\n",
       "      <td>0.0</td>\n",
       "      <td>0.0</td>\n",
       "      <td>8.0</td>\n",
       "      <td>...</td>\n",
       "      <td>809.0</td>\n",
       "      <td>817.0</td>\n",
       "      <td>8.0</td>\n",
       "      <td>73.0</td>\n",
       "      <td>245.0</td>\n",
       "      <td>370.0</td>\n",
       "      <td>119.0</td>\n",
       "      <td>2.0</td>\n",
       "      <td>817.0</td>\n",
       "      <td>2001</td>\n",
       "    </tr>\n",
       "    <tr>\n",
       "      <th>3</th>\n",
       "      <td>State</td>\n",
       "      <td>Bihar</td>\n",
       "      <td>8.0</td>\n",
       "      <td>0.0</td>\n",
       "      <td>2.0</td>\n",
       "      <td>5.0</td>\n",
       "      <td>1.0</td>\n",
       "      <td>0.0</td>\n",
       "      <td>0.0</td>\n",
       "      <td>8.0</td>\n",
       "      <td>...</td>\n",
       "      <td>880.0</td>\n",
       "      <td>888.0</td>\n",
       "      <td>1.0</td>\n",
       "      <td>15.0</td>\n",
       "      <td>198.0</td>\n",
       "      <td>562.0</td>\n",
       "      <td>112.0</td>\n",
       "      <td>0.0</td>\n",
       "      <td>888.0</td>\n",
       "      <td>2001</td>\n",
       "    </tr>\n",
       "    <tr>\n",
       "      <th>4</th>\n",
       "      <td>State</td>\n",
       "      <td>Chhattisgarh</td>\n",
       "      <td>6.0</td>\n",
       "      <td>0.0</td>\n",
       "      <td>3.0</td>\n",
       "      <td>1.0</td>\n",
       "      <td>1.0</td>\n",
       "      <td>1.0</td>\n",
       "      <td>0.0</td>\n",
       "      <td>6.0</td>\n",
       "      <td>...</td>\n",
       "      <td>953.0</td>\n",
       "      <td>959.0</td>\n",
       "      <td>25.0</td>\n",
       "      <td>191.0</td>\n",
       "      <td>218.0</td>\n",
       "      <td>384.0</td>\n",
       "      <td>137.0</td>\n",
       "      <td>4.0</td>\n",
       "      <td>959.0</td>\n",
       "      <td>2001</td>\n",
       "    </tr>\n",
       "  </tbody>\n",
       "</table>\n",
       "<p>5 rows × 27 columns</p>\n",
       "</div>"
      ],
      "text/plain": [
       "  Category  States/UTs/Cities  No. of Cases Reported (Incest Rape Cases)  \\\n",
       "0    State     Andhra Pradesh                                        4.0   \n",
       "1    State  Arunachal Pradesh                                        0.0   \n",
       "2    State              Assam                                        8.0   \n",
       "3    State              Bihar                                        8.0   \n",
       "4    State       Chhattisgarh                                        6.0   \n",
       "\n",
       "   No. of Victims (Incest Rape Cases) upto 10 Years  \\\n",
       "0                                               0.0   \n",
       "1                                               0.0   \n",
       "2                                               0.0   \n",
       "3                                               0.0   \n",
       "4                                               0.0   \n",
       "\n",
       "   No. of Victims (Incest Rape Cases) - 10 - 14 Years  \\\n",
       "0                                                2.0    \n",
       "1                                                0.0    \n",
       "2                                                1.0    \n",
       "3                                                2.0    \n",
       "4                                                3.0    \n",
       "\n",
       "   No. of Victims (Incest Rape Cases) - 14 - 18 Years  \\\n",
       "0                                                0.0    \n",
       "1                                                0.0    \n",
       "2                                                7.0    \n",
       "3                                                5.0    \n",
       "4                                                1.0    \n",
       "\n",
       "   No. of Victims (Incest Rape Cases) - 18 - 30 Years  \\\n",
       "0                                                2.0    \n",
       "1                                                0.0    \n",
       "2                                                0.0    \n",
       "3                                                1.0    \n",
       "4                                                1.0    \n",
       "\n",
       "   No. of Victims (Incest Rape Cases) - 30 - 50 Years  \\\n",
       "0                                                0.0    \n",
       "1                                                0.0    \n",
       "2                                                0.0    \n",
       "3                                                0.0    \n",
       "4                                                1.0    \n",
       "\n",
       "   No. of Victims (Incest Rape Cases) above 50 Years  \\\n",
       "0                                                0.0   \n",
       "1                                                0.0   \n",
       "2                                                0.0   \n",
       "3                                                0.0   \n",
       "4                                                0.0   \n",
       "\n",
       "   No. of Victims (Incest Rape Cases) - Total Victims  ...  \\\n",
       "0                                                4.0   ...   \n",
       "1                                                0.0   ...   \n",
       "2                                                8.0   ...   \n",
       "3                                                8.0   ...   \n",
       "4                                                6.0   ...   \n",
       "\n",
       "   No. of Victims (Other Rape Cases) - Total Victims  \\\n",
       "0                                              867.0   \n",
       "1                                               33.0   \n",
       "2                                              809.0   \n",
       "3                                              880.0   \n",
       "4                                              953.0   \n",
       "\n",
       "   No. of Cases Reported (Total Rape Cases)  \\\n",
       "0                                     871.0   \n",
       "1                                      33.0   \n",
       "2                                     817.0   \n",
       "3                                     888.0   \n",
       "4                                     959.0   \n",
       "\n",
       "   No. of Victims (Total Rape Cases) upto 10 Years  \\\n",
       "0                                             57.0   \n",
       "1                                              0.0   \n",
       "2                                              8.0   \n",
       "3                                              1.0   \n",
       "4                                             25.0   \n",
       "\n",
       "   No. of Victims (Total Rape Cases) - 10-14 Years  \\\n",
       "0                                            138.0   \n",
       "1                                              0.0   \n",
       "2                                             73.0   \n",
       "3                                             15.0   \n",
       "4                                            191.0   \n",
       "\n",
       "   No. of Victims (Total Rape Cases) - 14 - 18 Years  \\\n",
       "0                                              254.0   \n",
       "1                                                1.0   \n",
       "2                                              245.0   \n",
       "3                                              198.0   \n",
       "4                                              218.0   \n",
       "\n",
       "   No. of Victims (Total Rape Cases) - 18 - 30 Years  \\\n",
       "0                                              328.0   \n",
       "1                                               28.0   \n",
       "2                                              370.0   \n",
       "3                                              562.0   \n",
       "4                                              384.0   \n",
       "\n",
       "   No. of Victims (Total Rape Cases) - 30 - 50 Years  \\\n",
       "0                                               80.0   \n",
       "1                                                4.0   \n",
       "2                                              119.0   \n",
       "3                                              112.0   \n",
       "4                                              137.0   \n",
       "\n",
       "   No. of Victims (Total Rape Cases) above 50 Years  \\\n",
       "0                                              14.0   \n",
       "1                                               0.0   \n",
       "2                                               2.0   \n",
       "3                                               0.0   \n",
       "4                                               4.0   \n",
       "\n",
       "   No. of Victims (Total Rape Cases) - Total Victims  Year  \n",
       "0                                              871.0  2001  \n",
       "1                                               33.0  2001  \n",
       "2                                              817.0  2001  \n",
       "3                                              888.0  2001  \n",
       "4                                              959.0  2001  \n",
       "\n",
       "[5 rows x 27 columns]"
      ]
     },
     "execution_count": 5,
     "metadata": {},
     "output_type": "execute_result"
    }
   ],
   "source": [
    "df.head()"
   ]
  },
  {
   "cell_type": "markdown",
   "id": "546331a9",
   "metadata": {
    "papermill": {
     "duration": 0.006441,
     "end_time": "2025-05-29T18:08:31.812051",
     "exception": false,
     "start_time": "2025-05-29T18:08:31.805610",
     "status": "completed"
    },
    "tags": []
   },
   "source": [
    "# 1.Data Exploration"
   ]
  },
  {
   "cell_type": "code",
   "execution_count": 6,
   "id": "04a0eb0f",
   "metadata": {
    "execution": {
     "iopub.execute_input": "2025-05-29T18:08:31.826714Z",
     "iopub.status.busy": "2025-05-29T18:08:31.826401Z",
     "iopub.status.idle": "2025-05-29T18:08:31.850210Z",
     "shell.execute_reply": "2025-05-29T18:08:31.849108Z"
    },
    "papermill": {
     "duration": 0.033348,
     "end_time": "2025-05-29T18:08:31.851965",
     "exception": false,
     "start_time": "2025-05-29T18:08:31.818617",
     "status": "completed"
    },
    "tags": []
   },
   "outputs": [
    {
     "name": "stdout",
     "output_type": "stream",
     "text": [
      "<class 'pandas.core.frame.DataFrame'>\n",
      "RangeIndex: 684 entries, 0 to 683\n",
      "Data columns (total 27 columns):\n",
      " #   Column                                              Non-Null Count  Dtype  \n",
      "---  ------                                              --------------  -----  \n",
      " 0   Category                                            684 non-null    object \n",
      " 1   States/UTs/Cities                                   684 non-null    object \n",
      " 2   No. of Cases Reported (Incest Rape Cases)           681 non-null    float64\n",
      " 3   No. of Victims (Incest Rape Cases) upto 10 Years    681 non-null    float64\n",
      " 4   No. of Victims (Incest Rape Cases) - 10 - 14 Years  681 non-null    float64\n",
      " 5   No. of Victims (Incest Rape Cases) - 14 - 18 Years  681 non-null    float64\n",
      " 6   No. of Victims (Incest Rape Cases) - 18 - 30 Years  681 non-null    float64\n",
      " 7   No. of Victims (Incest Rape Cases) - 30 - 50 Years  681 non-null    float64\n",
      " 8   No. of Victims (Incest Rape Cases) above 50 Years   681 non-null    float64\n",
      " 9   No. of Victims (Incest Rape Cases) - Total Victims  681 non-null    float64\n",
      " 10  No. of Cases Reported (Other Rape Cases)            681 non-null    float64\n",
      " 11  No. of Victims (Other Rape Cases) upto 10 Years     681 non-null    float64\n",
      " 12  No. of Victims (Other Rape Cases) - 10 - 14 Years   681 non-null    float64\n",
      " 13  No. of Victims (Other Rape Cases) - 14 - 18 Years   681 non-null    float64\n",
      " 14  No. of Victims (Other Rape Cases) - 18 - 30 Years   681 non-null    float64\n",
      " 15  No. of Victims (Other Rape Cases) - 30 - 50 Years   681 non-null    float64\n",
      " 16  No. of Victims (Other Rape Cases) above 50 Years    681 non-null    float64\n",
      " 17  No. of Victims (Other Rape Cases) - Total Victims   681 non-null    float64\n",
      " 18  No. of Cases Reported (Total Rape Cases)            681 non-null    float64\n",
      " 19  No. of Victims (Total Rape Cases) upto 10 Years     681 non-null    float64\n",
      " 20  No. of Victims (Total Rape Cases) - 10-14 Years     681 non-null    float64\n",
      " 21  No. of Victims (Total Rape Cases) - 14 - 18 Years   681 non-null    float64\n",
      " 22  No. of Victims (Total Rape Cases) - 18 - 30 Years   681 non-null    float64\n",
      " 23  No. of Victims (Total Rape Cases) - 30 - 50 Years   681 non-null    float64\n",
      " 24  No. of Victims (Total Rape Cases) above 50 Years    681 non-null    float64\n",
      " 25  No. of Victims (Total Rape Cases) - Total Victims   681 non-null    float64\n",
      " 26  Year                                                684 non-null    object \n",
      "dtypes: float64(24), object(3)\n",
      "memory usage: 144.4+ KB\n"
     ]
    }
   ],
   "source": [
    "df.info()"
   ]
  },
  {
   "cell_type": "markdown",
   "id": "5ec541f0",
   "metadata": {
    "papermill": {
     "duration": 0.006618,
     "end_time": "2025-05-29T18:08:31.865558",
     "exception": false,
     "start_time": "2025-05-29T18:08:31.858940",
     "status": "completed"
    },
    "tags": []
   },
   "source": [
    "## 1.1 Find if Null Values are present"
   ]
  },
  {
   "cell_type": "code",
   "execution_count": 7,
   "id": "9e55863b",
   "metadata": {
    "execution": {
     "iopub.execute_input": "2025-05-29T18:08:31.880665Z",
     "iopub.status.busy": "2025-05-29T18:08:31.880351Z",
     "iopub.status.idle": "2025-05-29T18:08:31.888659Z",
     "shell.execute_reply": "2025-05-29T18:08:31.887779Z"
    },
    "papermill": {
     "duration": 0.017758,
     "end_time": "2025-05-29T18:08:31.890067",
     "exception": false,
     "start_time": "2025-05-29T18:08:31.872309",
     "status": "completed"
    },
    "tags": []
   },
   "outputs": [
    {
     "data": {
      "text/plain": [
       "Category                                              0\n",
       "States/UTs/Cities                                     0\n",
       "No. of Cases Reported (Incest Rape Cases)             3\n",
       "No. of Victims (Incest Rape Cases) upto 10 Years      3\n",
       "No. of Victims (Incest Rape Cases) - 10 - 14 Years    3\n",
       "No. of Victims (Incest Rape Cases) - 14 - 18 Years    3\n",
       "No. of Victims (Incest Rape Cases) - 18 - 30 Years    3\n",
       "No. of Victims (Incest Rape Cases) - 30 - 50 Years    3\n",
       "No. of Victims (Incest Rape Cases) above 50 Years     3\n",
       "No. of Victims (Incest Rape Cases) - Total Victims    3\n",
       "No. of Cases Reported (Other Rape Cases)              3\n",
       "No. of Victims (Other Rape Cases) upto 10 Years       3\n",
       "No. of Victims (Other Rape Cases) - 10 - 14 Years     3\n",
       "No. of Victims (Other Rape Cases) - 14 - 18 Years     3\n",
       "No. of Victims (Other Rape Cases) - 18 - 30 Years     3\n",
       "No. of Victims (Other Rape Cases) - 30 - 50 Years     3\n",
       "No. of Victims (Other Rape Cases) above 50 Years      3\n",
       "No. of Victims (Other Rape Cases) - Total Victims     3\n",
       "No. of Cases Reported (Total Rape Cases)              3\n",
       "No. of Victims (Total Rape Cases) upto 10 Years       3\n",
       "No. of Victims (Total Rape Cases) - 10-14 Years       3\n",
       "No. of Victims (Total Rape Cases) - 14 - 18 Years     3\n",
       "No. of Victims (Total Rape Cases) - 18 - 30 Years     3\n",
       "No. of Victims (Total Rape Cases) - 30 - 50 Years     3\n",
       "No. of Victims (Total Rape Cases) above 50 Years      3\n",
       "No. of Victims (Total Rape Cases) - Total Victims     3\n",
       "Year                                                  0\n",
       "dtype: int64"
      ]
     },
     "execution_count": 7,
     "metadata": {},
     "output_type": "execute_result"
    }
   ],
   "source": [
    "df.isnull().sum()"
   ]
  },
  {
   "cell_type": "markdown",
   "id": "4cbe2889",
   "metadata": {
    "papermill": {
     "duration": 0.006713,
     "end_time": "2025-05-29T18:08:31.903811",
     "exception": false,
     "start_time": "2025-05-29T18:08:31.897098",
     "status": "completed"
    },
    "tags": []
   },
   "source": [
    "## 1.2 Check Naming Consistency"
   ]
  },
  {
   "cell_type": "markdown",
   "id": "325ec301",
   "metadata": {
    "papermill": {
     "duration": 0.006847,
     "end_time": "2025-05-29T18:08:31.917625",
     "exception": false,
     "start_time": "2025-05-29T18:08:31.910778",
     "status": "completed"
    },
    "tags": []
   },
   "source": [
    "### Check for 'States/UTs/Cities' values"
   ]
  },
  {
   "cell_type": "code",
   "execution_count": 8,
   "id": "38a20efb",
   "metadata": {
    "execution": {
     "iopub.execute_input": "2025-05-29T18:08:31.932974Z",
     "iopub.status.busy": "2025-05-29T18:08:31.932596Z",
     "iopub.status.idle": "2025-05-29T18:08:31.939359Z",
     "shell.execute_reply": "2025-05-29T18:08:31.938379Z"
    },
    "papermill": {
     "duration": 0.016451,
     "end_time": "2025-05-29T18:08:31.940935",
     "exception": false,
     "start_time": "2025-05-29T18:08:31.924484",
     "status": "completed"
    },
    "tags": []
   },
   "outputs": [
    {
     "data": {
      "text/plain": [
       "array(['Andhra Pradesh', 'Arunachal Pradesh', 'Assam', 'Bihar',\n",
       "       'Chhattisgarh', 'Goa', 'Gujarat', 'Haryana', 'Himachal Pradesh',\n",
       "       'Jammu & Kashmir', 'Jharkhand', 'Karnataka', 'Kerala',\n",
       "       'Madhya Pradesh', 'Maharashtra', 'Manipur', 'Meghalaya', 'Mizoram',\n",
       "       'Nagaland', 'Orissa', 'Punjab', 'Rajasthan', 'Sikkim',\n",
       "       'Tamil Nadu', 'Tripura', 'Uttar Pradesh', 'Uttaranchal',\n",
       "       'West Bengal', 'Total (States)', 'A & N Islands', 'Chandigarh',\n",
       "       'D & N Haveli', 'Daman & Diu', 'Delhi', 'Lakshadweep',\n",
       "       'Pondicherry', 'Total (UTs)', 'Total (All-India)', 'Agra',\n",
       "       'Ahmedabad', 'Allahabad', 'Amritsar', 'Asansol', 'Bangalore',\n",
       "       'Bhopal', 'Chennai', 'Coimbatore', 'Delhi (City)', 'Dhanbad',\n",
       "       'Faridabad', 'Hyderabad', 'Indore', 'Jabalpur', 'Jaipur',\n",
       "       'Jamshedpur', 'Kanpur', 'Kochi', 'Kolkata', 'Lucknow', 'Ludhiana',\n",
       "       'Madurai', 'Meerut', 'Mumbai', 'Nagpur', 'Nasik', 'Patna', 'Pune',\n",
       "       'Rajkot', 'Surat', 'Vadodara', 'Varanasi', 'Vijayawada',\n",
       "       'Vishakhapatnam', 'Total (Cities)', 'Puducherry', 'Delhi (CITY)',\n",
       "       'Delhi (city)', 'Uttarakhand', 'Total (All India)', 'Bengaluru',\n",
       "       'Odisha', 'Andaman & Nicobar Islands', 'Dadra Nagar Haveli',\n",
       "       'Aurangabad', 'Chandigarh(c)', 'Durg-bhilainagar', 'Ghaziabad',\n",
       "       'Gwalior', 'Jodhpur', 'Kannur', 'Kollam', 'Kota', 'Kozhikode',\n",
       "       'Malappuram', 'Raipur', 'Ranchi', 'Srinagar', 'Thiruvananthapuram',\n",
       "       'Thrissur', 'Tiruchirapalli', 'Vasai Virar'], dtype=object)"
      ]
     },
     "execution_count": 8,
     "metadata": {},
     "output_type": "execute_result"
    }
   ],
   "source": [
    "df['States/UTs/Cities'].unique()"
   ]
  },
  {
   "cell_type": "markdown",
   "id": "57f26d52",
   "metadata": {
    "papermill": {
     "duration": 0.006842,
     "end_time": "2025-05-29T18:08:31.955016",
     "exception": false,
     "start_time": "2025-05-29T18:08:31.948174",
     "status": "completed"
    },
    "tags": []
   },
   "source": [
    "### Check for Category values"
   ]
  },
  {
   "cell_type": "code",
   "execution_count": 9,
   "id": "053f251c",
   "metadata": {
    "execution": {
     "iopub.execute_input": "2025-05-29T18:08:31.970402Z",
     "iopub.status.busy": "2025-05-29T18:08:31.970069Z",
     "iopub.status.idle": "2025-05-29T18:08:31.976422Z",
     "shell.execute_reply": "2025-05-29T18:08:31.975570Z"
    },
    "papermill": {
     "duration": 0.016016,
     "end_time": "2025-05-29T18:08:31.978001",
     "exception": false,
     "start_time": "2025-05-29T18:08:31.961985",
     "status": "completed"
    },
    "tags": []
   },
   "outputs": [
    {
     "data": {
      "text/plain": [
       "array(['State', 'Union Territory', 'Total (All-India)', 'City',\n",
       "       'Total (Cities)', 'All India', 'Union Territories'], dtype=object)"
      ]
     },
     "execution_count": 9,
     "metadata": {},
     "output_type": "execute_result"
    }
   ],
   "source": [
    "df['Category'].unique()"
   ]
  },
  {
   "cell_type": "markdown",
   "id": "b8260630",
   "metadata": {
    "papermill": {
     "duration": 0.006818,
     "end_time": "2025-05-29T18:08:31.991958",
     "exception": false,
     "start_time": "2025-05-29T18:08:31.985140",
     "status": "completed"
    },
    "tags": []
   },
   "source": [
    "# 2.Data Cleaning"
   ]
  },
  {
   "cell_type": "markdown",
   "id": "2ad46d01",
   "metadata": {
    "papermill": {
     "duration": 0.00676,
     "end_time": "2025-05-29T18:08:32.005796",
     "exception": false,
     "start_time": "2025-05-29T18:08:31.999036",
     "status": "completed"
    },
    "tags": []
   },
   "source": [
    "## 2.1 Drop Rows where Null Values are present"
   ]
  },
  {
   "cell_type": "code",
   "execution_count": 10,
   "id": "dddc5417",
   "metadata": {
    "execution": {
     "iopub.execute_input": "2025-05-29T18:08:32.021329Z",
     "iopub.status.busy": "2025-05-29T18:08:32.021015Z",
     "iopub.status.idle": "2025-05-29T18:08:32.027872Z",
     "shell.execute_reply": "2025-05-29T18:08:32.026893Z"
    },
    "papermill": {
     "duration": 0.0168,
     "end_time": "2025-05-29T18:08:32.029616",
     "exception": false,
     "start_time": "2025-05-29T18:08:32.012816",
     "status": "completed"
    },
    "tags": []
   },
   "outputs": [],
   "source": [
    "df=df.dropna()"
   ]
  },
  {
   "cell_type": "code",
   "execution_count": 11,
   "id": "1465af66",
   "metadata": {
    "execution": {
     "iopub.execute_input": "2025-05-29T18:08:32.045389Z",
     "iopub.status.busy": "2025-05-29T18:08:32.045105Z",
     "iopub.status.idle": "2025-05-29T18:08:32.053743Z",
     "shell.execute_reply": "2025-05-29T18:08:32.052940Z"
    },
    "papermill": {
     "duration": 0.018441,
     "end_time": "2025-05-29T18:08:32.055328",
     "exception": false,
     "start_time": "2025-05-29T18:08:32.036887",
     "status": "completed"
    },
    "tags": []
   },
   "outputs": [
    {
     "data": {
      "text/plain": [
       "Category                                              0\n",
       "States/UTs/Cities                                     0\n",
       "No. of Cases Reported (Incest Rape Cases)             0\n",
       "No. of Victims (Incest Rape Cases) upto 10 Years      0\n",
       "No. of Victims (Incest Rape Cases) - 10 - 14 Years    0\n",
       "No. of Victims (Incest Rape Cases) - 14 - 18 Years    0\n",
       "No. of Victims (Incest Rape Cases) - 18 - 30 Years    0\n",
       "No. of Victims (Incest Rape Cases) - 30 - 50 Years    0\n",
       "No. of Victims (Incest Rape Cases) above 50 Years     0\n",
       "No. of Victims (Incest Rape Cases) - Total Victims    0\n",
       "No. of Cases Reported (Other Rape Cases)              0\n",
       "No. of Victims (Other Rape Cases) upto 10 Years       0\n",
       "No. of Victims (Other Rape Cases) - 10 - 14 Years     0\n",
       "No. of Victims (Other Rape Cases) - 14 - 18 Years     0\n",
       "No. of Victims (Other Rape Cases) - 18 - 30 Years     0\n",
       "No. of Victims (Other Rape Cases) - 30 - 50 Years     0\n",
       "No. of Victims (Other Rape Cases) above 50 Years      0\n",
       "No. of Victims (Other Rape Cases) - Total Victims     0\n",
       "No. of Cases Reported (Total Rape Cases)              0\n",
       "No. of Victims (Total Rape Cases) upto 10 Years       0\n",
       "No. of Victims (Total Rape Cases) - 10-14 Years       0\n",
       "No. of Victims (Total Rape Cases) - 14 - 18 Years     0\n",
       "No. of Victims (Total Rape Cases) - 18 - 30 Years     0\n",
       "No. of Victims (Total Rape Cases) - 30 - 50 Years     0\n",
       "No. of Victims (Total Rape Cases) above 50 Years      0\n",
       "No. of Victims (Total Rape Cases) - Total Victims     0\n",
       "Year                                                  0\n",
       "dtype: int64"
      ]
     },
     "execution_count": 11,
     "metadata": {},
     "output_type": "execute_result"
    }
   ],
   "source": [
    "df.isnull().sum()"
   ]
  },
  {
   "cell_type": "markdown",
   "id": "29c8e122",
   "metadata": {
    "papermill": {
     "duration": 0.006979,
     "end_time": "2025-05-29T18:08:32.069706",
     "exception": false,
     "start_time": "2025-05-29T18:08:32.062727",
     "status": "completed"
    },
    "tags": []
   },
   "source": [
    "## 2.1 Clean Category Column"
   ]
  },
  {
   "cell_type": "code",
   "execution_count": 12,
   "id": "e59f607d",
   "metadata": {
    "execution": {
     "iopub.execute_input": "2025-05-29T18:08:32.088266Z",
     "iopub.status.busy": "2025-05-29T18:08:32.087949Z",
     "iopub.status.idle": "2025-05-29T18:08:32.093653Z",
     "shell.execute_reply": "2025-05-29T18:08:32.092744Z"
    },
    "papermill": {
     "duration": 0.016221,
     "end_time": "2025-05-29T18:08:32.095250",
     "exception": false,
     "start_time": "2025-05-29T18:08:32.079029",
     "status": "completed"
    },
    "tags": []
   },
   "outputs": [],
   "source": [
    "#Standard name is 'Union Territory' some rows contain 'Union Territories'\n",
    "# replace such values with standard name\n",
    "df['Category']=df['Category'].str.replace('Union Territories','Union Territory')"
   ]
  },
  {
   "cell_type": "code",
   "execution_count": 13,
   "id": "32df7824",
   "metadata": {
    "execution": {
     "iopub.execute_input": "2025-05-29T18:08:32.111399Z",
     "iopub.status.busy": "2025-05-29T18:08:32.111076Z",
     "iopub.status.idle": "2025-05-29T18:08:32.118319Z",
     "shell.execute_reply": "2025-05-29T18:08:32.117607Z"
    },
    "papermill": {
     "duration": 0.017015,
     "end_time": "2025-05-29T18:08:32.119831",
     "exception": false,
     "start_time": "2025-05-29T18:08:32.102816",
     "status": "completed"
    },
    "tags": []
   },
   "outputs": [],
   "source": [
    "# Drop rows where 'Category' contains aggregate values like 'Total (All-India)', \n",
    "# 'Total (Cities)', or 'All India' as they are not required for individual-level analysis.\n",
    "# These totals can be calculated separately during analysis if needed.\n",
    "df=df[~df['Category'].isin(['Total (All-India)','Total (Cities)', 'All India'])]"
   ]
  },
  {
   "cell_type": "code",
   "execution_count": 14,
   "id": "dada148b",
   "metadata": {
    "execution": {
     "iopub.execute_input": "2025-05-29T18:08:32.136543Z",
     "iopub.status.busy": "2025-05-29T18:08:32.136255Z",
     "iopub.status.idle": "2025-05-29T18:08:32.142090Z",
     "shell.execute_reply": "2025-05-29T18:08:32.141319Z"
    },
    "papermill": {
     "duration": 0.016197,
     "end_time": "2025-05-29T18:08:32.143498",
     "exception": false,
     "start_time": "2025-05-29T18:08:32.127301",
     "status": "completed"
    },
    "tags": []
   },
   "outputs": [
    {
     "data": {
      "text/plain": [
       "array(['State', 'Union Territory', 'City'], dtype=object)"
      ]
     },
     "execution_count": 14,
     "metadata": {},
     "output_type": "execute_result"
    }
   ],
   "source": [
    "df['Category'].unique()"
   ]
  },
  {
   "cell_type": "markdown",
   "id": "0783e47d",
   "metadata": {
    "papermill": {
     "duration": 0.007012,
     "end_time": "2025-05-29T18:08:32.158036",
     "exception": false,
     "start_time": "2025-05-29T18:08:32.151024",
     "status": "completed"
    },
    "tags": []
   },
   "source": [
    "## 2.2 Clean 'States/UTs/Cities' Column"
   ]
  },
  {
   "cell_type": "code",
   "execution_count": 15,
   "id": "f6c833fd",
   "metadata": {
    "execution": {
     "iopub.execute_input": "2025-05-29T18:08:32.173835Z",
     "iopub.status.busy": "2025-05-29T18:08:32.173276Z",
     "iopub.status.idle": "2025-05-29T18:08:32.181798Z",
     "shell.execute_reply": "2025-05-29T18:08:32.180920Z"
    },
    "papermill": {
     "duration": 0.018164,
     "end_time": "2025-05-29T18:08:32.183325",
     "exception": false,
     "start_time": "2025-05-29T18:08:32.165161",
     "status": "completed"
    },
    "tags": []
   },
   "outputs": [],
   "source": [
    "# Mapping of non-standard or outdated region names to their standardized forms \n",
    "# for consistency and uniformity across datasets.\n",
    "standard_names={\n",
    "    'A & N Islands':'Andaman and Nicobar Islands',\n",
    "    'D & N Haveli':'Dadra and Nagar Haveli',\n",
    "    'Chandigarh(c)':'Chandigarh',\n",
    "    'Delhi (CITY)':'Delhi',\n",
    "    'Delhi (city)': 'Delhi',\n",
    "    'Delhi (City)': 'Delhi',\n",
    "    'Orissa':'Odisha',\n",
    "    'Puducherry': 'Pondicherry',\n",
    "    'Uttaranchal':'Uttarakhand'\n",
    "}\n",
    "df['States/UTs/Cities'] = df['States/UTs/Cities'].replace(standard_names)"
   ]
  },
  {
   "cell_type": "code",
   "execution_count": 16,
   "id": "716a13d8",
   "metadata": {
    "execution": {
     "iopub.execute_input": "2025-05-29T18:08:32.199106Z",
     "iopub.status.busy": "2025-05-29T18:08:32.198538Z",
     "iopub.status.idle": "2025-05-29T18:08:32.204091Z",
     "shell.execute_reply": "2025-05-29T18:08:32.203168Z"
    },
    "papermill": {
     "duration": 0.014903,
     "end_time": "2025-05-29T18:08:32.205488",
     "exception": false,
     "start_time": "2025-05-29T18:08:32.190585",
     "status": "completed"
    },
    "tags": []
   },
   "outputs": [],
   "source": [
    "# Removing aggregate rows (totals for States, UTs, Cities, and All-India)\n",
    "# to retain only individual region-level data for analysis.\n",
    "df=df[~df['States/UTs/Cities'].isin([\n",
    "    'Total (States)',\n",
    "    'Total (UTs)',\n",
    "    'Total (All-India)',\n",
    "    'Total (Cities)',\n",
    "    'Total (All India)'])]"
   ]
  },
  {
   "cell_type": "code",
   "execution_count": 17,
   "id": "f8f7dac2",
   "metadata": {
    "execution": {
     "iopub.execute_input": "2025-05-29T18:08:32.221385Z",
     "iopub.status.busy": "2025-05-29T18:08:32.221099Z",
     "iopub.status.idle": "2025-05-29T18:08:32.227098Z",
     "shell.execute_reply": "2025-05-29T18:08:32.226433Z"
    },
    "papermill": {
     "duration": 0.015671,
     "end_time": "2025-05-29T18:08:32.228465",
     "exception": false,
     "start_time": "2025-05-29T18:08:32.212794",
     "status": "completed"
    },
    "tags": []
   },
   "outputs": [
    {
     "data": {
      "text/plain": [
       "array(['Andhra Pradesh', 'Arunachal Pradesh', 'Assam', 'Bihar',\n",
       "       'Chhattisgarh', 'Goa', 'Gujarat', 'Haryana', 'Himachal Pradesh',\n",
       "       'Jammu & Kashmir', 'Jharkhand', 'Karnataka', 'Kerala',\n",
       "       'Madhya Pradesh', 'Maharashtra', 'Manipur', 'Meghalaya', 'Mizoram',\n",
       "       'Nagaland', 'Odisha', 'Punjab', 'Rajasthan', 'Sikkim',\n",
       "       'Tamil Nadu', 'Tripura', 'Uttar Pradesh', 'Uttarakhand',\n",
       "       'West Bengal', 'Andaman and Nicobar Islands', 'Chandigarh',\n",
       "       'Dadra and Nagar Haveli', 'Daman & Diu', 'Delhi', 'Lakshadweep',\n",
       "       'Pondicherry', 'Agra', 'Ahmedabad', 'Allahabad', 'Amritsar',\n",
       "       'Bangalore', 'Bhopal', 'Chennai', 'Coimbatore', 'Faridabad',\n",
       "       'Hyderabad', 'Indore', 'Jabalpur', 'Jaipur', 'Kanpur', 'Kochi',\n",
       "       'Kolkata', 'Lucknow', 'Ludhiana', 'Madurai', 'Meerut', 'Mumbai',\n",
       "       'Nagpur', 'Nasik', 'Patna', 'Pune', 'Rajkot', 'Surat', 'Vadodara',\n",
       "       'Varanasi', 'Vijayawada', 'Vishakhapatnam', 'Asansol', 'Dhanbad',\n",
       "       'Jamshedpur', 'Bengaluru', 'Andaman & Nicobar Islands',\n",
       "       'Dadra Nagar Haveli', 'Aurangabad', 'Durg-bhilainagar',\n",
       "       'Ghaziabad', 'Gwalior', 'Jodhpur', 'Kannur', 'Kollam', 'Kota',\n",
       "       'Kozhikode', 'Malappuram', 'Raipur', 'Ranchi', 'Srinagar',\n",
       "       'Thiruvananthapuram', 'Thrissur', 'Tiruchirapalli', 'Vasai Virar'],\n",
       "      dtype=object)"
      ]
     },
     "execution_count": 17,
     "metadata": {},
     "output_type": "execute_result"
    }
   ],
   "source": [
    "df['States/UTs/Cities'].unique()"
   ]
  },
  {
   "cell_type": "markdown",
   "id": "71ac5f10",
   "metadata": {
    "papermill": {
     "duration": 0.074016,
     "end_time": "2025-05-29T18:08:32.310707",
     "exception": false,
     "start_time": "2025-05-29T18:08:32.236691",
     "status": "completed"
    },
    "tags": []
   },
   "source": [
    "# 3.Data Analysis"
   ]
  },
  {
   "cell_type": "code",
   "execution_count": 18,
   "id": "2eaaa20a",
   "metadata": {
    "execution": {
     "iopub.execute_input": "2025-05-29T18:08:32.326884Z",
     "iopub.status.busy": "2025-05-29T18:08:32.326570Z",
     "iopub.status.idle": "2025-05-29T18:08:32.331081Z",
     "shell.execute_reply": "2025-05-29T18:08:32.330173Z"
    },
    "papermill": {
     "duration": 0.014544,
     "end_time": "2025-05-29T18:08:32.332723",
     "exception": false,
     "start_time": "2025-05-29T18:08:32.318179",
     "status": "completed"
    },
    "tags": []
   },
   "outputs": [],
   "source": [
    "#defining color palette which will be used in analysis\n",
    "palette = ['#fde2e4', '#fbc4ab', '#f8ad9d', '#f4978e', '#f08080', '#d86f60']"
   ]
  },
  {
   "cell_type": "markdown",
   "id": "757a64c1",
   "metadata": {
    "papermill": {
     "duration": 0.007235,
     "end_time": "2025-05-29T18:08:32.347812",
     "exception": false,
     "start_time": "2025-05-29T18:08:32.340577",
     "status": "completed"
    },
    "tags": []
   },
   "source": [
    "## 3.1 Total number of rape cases reported each year across India"
   ]
  },
  {
   "cell_type": "code",
   "execution_count": 19,
   "id": "af2c437a",
   "metadata": {
    "execution": {
     "iopub.execute_input": "2025-05-29T18:08:32.364659Z",
     "iopub.status.busy": "2025-05-29T18:08:32.364353Z",
     "iopub.status.idle": "2025-05-29T18:08:32.640818Z",
     "shell.execute_reply": "2025-05-29T18:08:32.639905Z"
    },
    "papermill": {
     "duration": 0.286512,
     "end_time": "2025-05-29T18:08:32.642448",
     "exception": false,
     "start_time": "2025-05-29T18:08:32.355936",
     "status": "completed"
    },
    "tags": []
   },
   "outputs": [
    {
     "data": {
      "image/png": "[encoded data removed]",
      "text/plain": [
       "<Figure size 640x480 with 1 Axes>"
      ]
     },
     "metadata": {},
     "output_type": "display_data"
    }
   ],
   "source": [
    "cases_per_year=df.groupby('Year')['No. of Victims (Total Rape Cases) - Total Victims'].sum()\n",
    "y=df['Year']\n",
    "plt.plot(cases_per_year.index,cases_per_year.values,color=palette[1],linewidth=2)\n",
    "plt.xlabel('Years')\n",
    "plt.ylabel('Total number of Victims')\n",
    "plt.title('Total number of rape cases reported each year across India')\n",
    "plt.show()"
   ]
  },
  {
   "cell_type": "markdown",
   "id": "f6586c5c",
   "metadata": {
    "papermill": {
     "duration": 0.009037,
     "end_time": "2025-05-29T18:08:32.660690",
     "exception": false,
     "start_time": "2025-05-29T18:08:32.651653",
     "status": "completed"
    },
    "tags": []
   },
   "source": [
    "## 3.2 States or UTs reported the highest number of total rape cases"
   ]
  },
  {
   "cell_type": "code",
   "execution_count": 20,
   "id": "6f7ff5ce",
   "metadata": {
    "execution": {
     "iopub.execute_input": "2025-05-29T18:08:32.679907Z",
     "iopub.status.busy": "2025-05-29T18:08:32.679563Z",
     "iopub.status.idle": "2025-05-29T18:08:32.692031Z",
     "shell.execute_reply": "2025-05-29T18:08:32.690954Z"
    },
    "papermill": {
     "duration": 0.024476,
     "end_time": "2025-05-29T18:08:32.693608",
     "exception": false,
     "start_time": "2025-05-29T18:08:32.669132",
     "status": "completed"
    },
    "tags": []
   },
   "outputs": [
    {
     "data": {
      "text/html": [
       "<div>\n",
       "<style scoped>\n",
       "    .dataframe tbody tr th:only-of-type {\n",
       "        vertical-align: middle;\n",
       "    }\n",
       "\n",
       "    .dataframe tbody tr th {\n",
       "        vertical-align: top;\n",
       "    }\n",
       "\n",
       "    .dataframe thead th {\n",
       "        text-align: right;\n",
       "    }\n",
       "</style>\n",
       "<table border=\"1\" class=\"dataframe\">\n",
       "  <thead>\n",
       "    <tr style=\"text-align: right;\">\n",
       "      <th></th>\n",
       "      <th>Category</th>\n",
       "      <th>States/UTs/Cities</th>\n",
       "      <th>No. of Victims (Total Rape Cases) - Total Victims</th>\n",
       "      <th>Year</th>\n",
       "    </tr>\n",
       "  </thead>\n",
       "  <tbody>\n",
       "    <tr>\n",
       "      <th>605</th>\n",
       "      <td>State</td>\n",
       "      <td>Madhya Pradesh</td>\n",
       "      <td>3408.0</td>\n",
       "      <td>2011</td>\n",
       "    </tr>\n",
       "  </tbody>\n",
       "</table>\n",
       "</div>"
      ],
      "text/plain": [
       "    Category States/UTs/Cities  \\\n",
       "605    State    Madhya Pradesh   \n",
       "\n",
       "     No. of Victims (Total Rape Cases) - Total Victims  Year  \n",
       "605                                             3408.0  2011  "
      ]
     },
     "execution_count": 20,
     "metadata": {},
     "output_type": "execute_result"
    }
   ],
   "source": [
    "df[df['No. of Victims (Total Rape Cases) - Total Victims']==\n",
    "df['No. of Victims (Total Rape Cases) - Total Victims'].max()][['Category','States/UTs/Cities','No. of Victims (Total Rape Cases) - Total Victims','Year']]"
   ]
  },
  {
   "cell_type": "markdown",
   "id": "68793fa6",
   "metadata": {
    "papermill": {
     "duration": 0.008755,
     "end_time": "2025-05-29T18:08:32.710879",
     "exception": false,
     "start_time": "2025-05-29T18:08:32.702124",
     "status": "completed"
    },
    "tags": []
   },
   "source": [
    "## 3.3 States or UTs reported the lowest number of total rape cases"
   ]
  },
  {
   "cell_type": "code",
   "execution_count": 21,
   "id": "c4cb83fc",
   "metadata": {
    "execution": {
     "iopub.execute_input": "2025-05-29T18:08:32.729155Z",
     "iopub.status.busy": "2025-05-29T18:08:32.728828Z",
     "iopub.status.idle": "2025-05-29T18:08:32.741276Z",
     "shell.execute_reply": "2025-05-29T18:08:32.740274Z"
    },
    "papermill": {
     "duration": 0.023334,
     "end_time": "2025-05-29T18:08:32.742771",
     "exception": false,
     "start_time": "2025-05-29T18:08:32.719437",
     "status": "completed"
    },
    "tags": []
   },
   "outputs": [
    {
     "data": {
      "text/html": [
       "<div>\n",
       "<style scoped>\n",
       "    .dataframe tbody tr th:only-of-type {\n",
       "        vertical-align: middle;\n",
       "    }\n",
       "\n",
       "    .dataframe tbody tr th {\n",
       "        vertical-align: top;\n",
       "    }\n",
       "\n",
       "    .dataframe thead th {\n",
       "        text-align: right;\n",
       "    }\n",
       "</style>\n",
       "<table border=\"1\" class=\"dataframe\">\n",
       "  <thead>\n",
       "    <tr style=\"text-align: right;\">\n",
       "      <th></th>\n",
       "      <th>Category</th>\n",
       "      <th>States/UTs/Cities</th>\n",
       "      <th>No. of Victims (Total Rape Cases) - Total Victims</th>\n",
       "      <th>Year</th>\n",
       "    </tr>\n",
       "  </thead>\n",
       "  <tbody>\n",
       "    <tr>\n",
       "      <th>32</th>\n",
       "      <td>Union Territory</td>\n",
       "      <td>Daman &amp; Diu</td>\n",
       "      <td>0.0</td>\n",
       "      <td>2001</td>\n",
       "    </tr>\n",
       "    <tr>\n",
       "      <th>34</th>\n",
       "      <td>Union Territory</td>\n",
       "      <td>Lakshadweep</td>\n",
       "      <td>0.0</td>\n",
       "      <td>2001</td>\n",
       "    </tr>\n",
       "    <tr>\n",
       "      <th>106</th>\n",
       "      <td>Union Territory</td>\n",
       "      <td>Daman &amp; Diu</td>\n",
       "      <td>0.0</td>\n",
       "      <td>2002</td>\n",
       "    </tr>\n",
       "    <tr>\n",
       "      <th>256</th>\n",
       "      <td>Union Territory</td>\n",
       "      <td>Lakshadweep</td>\n",
       "      <td>0.0</td>\n",
       "      <td>2005</td>\n",
       "    </tr>\n",
       "    <tr>\n",
       "      <th>330</th>\n",
       "      <td>Union Territory</td>\n",
       "      <td>Lakshadweep</td>\n",
       "      <td>0.0</td>\n",
       "      <td>2006</td>\n",
       "    </tr>\n",
       "    <tr>\n",
       "      <th>552</th>\n",
       "      <td>Union Territory</td>\n",
       "      <td>Lakshadweep</td>\n",
       "      <td>0.0</td>\n",
       "      <td>2010</td>\n",
       "    </tr>\n",
       "    <tr>\n",
       "      <th>626</th>\n",
       "      <td>Union Territory</td>\n",
       "      <td>Lakshadweep</td>\n",
       "      <td>0.0</td>\n",
       "      <td>2011</td>\n",
       "    </tr>\n",
       "  </tbody>\n",
       "</table>\n",
       "</div>"
      ],
      "text/plain": [
       "            Category States/UTs/Cities  \\\n",
       "32   Union Territory       Daman & Diu   \n",
       "34   Union Territory       Lakshadweep   \n",
       "106  Union Territory       Daman & Diu   \n",
       "256  Union Territory       Lakshadweep   \n",
       "330  Union Territory       Lakshadweep   \n",
       "552  Union Territory       Lakshadweep   \n",
       "626  Union Territory       Lakshadweep   \n",
       "\n",
       "     No. of Victims (Total Rape Cases) - Total Victims  Year  \n",
       "32                                                 0.0  2001  \n",
       "34                                                 0.0  2001  \n",
       "106                                                0.0  2002  \n",
       "256                                                0.0  2005  \n",
       "330                                                0.0  2006  \n",
       "552                                                0.0  2010  \n",
       "626                                                0.0  2011  "
      ]
     },
     "execution_count": 21,
     "metadata": {},
     "output_type": "execute_result"
    }
   ],
   "source": [
    "df[df['No. of Victims (Total Rape Cases) - Total Victims']\n",
    "==df['No. of Victims (Total Rape Cases) - Total Victims'].min()][['Category','States/UTs/Cities','No. of Victims (Total Rape Cases) - Total Victims','Year']]"
   ]
  },
  {
   "cell_type": "markdown",
   "id": "ea79adc3",
   "metadata": {
    "papermill": {
     "duration": 0.008159,
     "end_time": "2025-05-29T18:08:32.760304",
     "exception": false,
     "start_time": "2025-05-29T18:08:32.752145",
     "status": "completed"
    },
    "tags": []
   },
   "source": [
    "## 3.4 Distribution of victims by age group for a specific year "
   ]
  },
  {
   "cell_type": "code",
   "execution_count": 22,
   "id": "833f6b7b",
   "metadata": {
    "execution": {
     "iopub.execute_input": "2025-05-29T18:08:32.778419Z",
     "iopub.status.busy": "2025-05-29T18:08:32.778154Z",
     "iopub.status.idle": "2025-05-29T18:08:33.319025Z",
     "shell.execute_reply": "2025-05-29T18:08:33.317957Z"
    },
    "papermill": {
     "duration": 0.551805,
     "end_time": "2025-05-29T18:08:33.320554",
     "exception": false,
     "start_time": "2025-05-29T18:08:32.768749",
     "status": "completed"
    },
    "tags": []
   },
   "outputs": [
    {
     "data": {
      "text/plain": [
       "<Axes: xlabel='Year'>"
      ]
     },
     "execution_count": 22,
     "metadata": {},
     "output_type": "execute_result"
    },
    {
     "data": {
      "image/png": "[encoded data removed]",
      "text/plain": [
       "<Figure size 1600x800 with 1 Axes>"
      ]
     },
     "metadata": {},
     "output_type": "display_data"
    }
   ],
   "source": [
    "age_groups = [\n",
    "    \"No. of Victims (Total Rape Cases) upto 10 Years\",\n",
    "    \"No. of Victims (Total Rape Cases) - 10-14 Years\",\n",
    "    \"No. of Victims (Total Rape Cases) - 14 - 18 Years\",\n",
    "    \"No. of Victims (Total Rape Cases) - 18 - 30 Years\",\n",
    "    \"No. of Victims (Total Rape Cases) - 30 - 50 Years\",\n",
    "    \"No. of Victims (Total Rape Cases) above 50 Years\"\n",
    "]\n",
    "cases=df.groupby('Year')[age_groups].sum()\n",
    "cases.plot(kind='bar',stacked=True,color=palette,figsize=(16, 8))"
   ]
  },
  {
   "cell_type": "markdown",
   "id": "2139f52d",
   "metadata": {
    "papermill": {
     "duration": 0.008974,
     "end_time": "2025-05-29T18:08:33.339388",
     "exception": false,
     "start_time": "2025-05-29T18:08:33.330414",
     "status": "completed"
    },
    "tags": []
   },
   "source": [
    "## 3.5 The number of Incest vs. Other rape cases across all states"
   ]
  },
  {
   "cell_type": "code",
   "execution_count": 23,
   "id": "17fa6154",
   "metadata": {
    "execution": {
     "iopub.execute_input": "2025-05-29T18:08:33.360330Z",
     "iopub.status.busy": "2025-05-29T18:08:33.359221Z",
     "iopub.status.idle": "2025-05-29T18:08:33.886134Z",
     "shell.execute_reply": "2025-05-29T18:08:33.885197Z"
    },
    "papermill": {
     "duration": 0.539087,
     "end_time": "2025-05-29T18:08:33.887877",
     "exception": false,
     "start_time": "2025-05-29T18:08:33.348790",
     "status": "completed"
    },
    "tags": []
   },
   "outputs": [
    {
     "data": {
      "image/png": "[encoded data removed]",
      "text/plain": [
       "<Figure size 1600x800 with 1 Axes>"
      ]
     },
     "metadata": {},
     "output_type": "display_data"
    }
   ],
   "source": [
    "number_of_incest_rape_cases = df[df['Category'] == 'State'].groupby('States/UTs/Cities')['No. of Cases Reported (Incest Rape Cases)'].sum()\n",
    "number_of_other_rape_cases = df[df['Category'] == 'State'].groupby('States/UTs/Cities')['No. of Cases Reported (Other Rape Cases)'].sum()\n",
    "number_of_total_rape_cases = df[df['Category'] == 'State'].groupby('States/UTs/Cities')['No. of Cases Reported (Total Rape Cases)'].sum()\n",
    "\n",
    "states=number_of_incest_rape_cases.index\n",
    "x=np.arange(len(states))\n",
    "\n",
    "width=0.25\n",
    "\n",
    "plt.figure(figsize=(16,8))\n",
    "\n",
    "plt.bar(x - width, number_of_incest_rape_cases.values, width=width, label='Incest Rape Cases', color='#f4978e')\n",
    "plt.bar(x, number_of_other_rape_cases.values, width=width, label='Other Rape Cases', color='#d86f60')\n",
    "plt.bar(x + width, number_of_total_rape_cases.values, width=width, label='Total Rape Cases', color='#fbc4ab')\n",
    "\n",
    "plt.xticks(x,states, rotation=90)\n",
    "plt.xlabel('States/UTs/Cities')\n",
    "plt.ylabel('Number of Cases Reported')\n",
    "plt.title('Rape Case Distribution Across States')\n",
    "plt.legend()\n",
    "plt.grid(axis='y', linestyle='--', alpha=0.5)\n",
    "plt.tight_layout()\n",
    "\n",
    "plt.show()\n"
   ]
  },
  {
   "cell_type": "markdown",
   "id": "e6810525",
   "metadata": {
    "papermill": {
     "duration": 0.011013,
     "end_time": "2025-05-29T18:08:33.910679",
     "exception": false,
     "start_time": "2025-05-29T18:08:33.899666",
     "status": "completed"
    },
    "tags": []
   },
   "source": [
    "## 3.6 The top 5 states with the highest total number of underage victims (upto 10, 10–14, 14–18 years)."
   ]
  },
  {
   "cell_type": "code",
   "execution_count": 24,
   "id": "4dfbf080",
   "metadata": {
    "execution": {
     "iopub.execute_input": "2025-05-29T18:08:33.934928Z",
     "iopub.status.busy": "2025-05-29T18:08:33.934168Z",
     "iopub.status.idle": "2025-05-29T18:08:34.235867Z",
     "shell.execute_reply": "2025-05-29T18:08:34.234798Z"
    },
    "papermill": {
     "duration": 0.315524,
     "end_time": "2025-05-29T18:08:34.237540",
     "exception": false,
     "start_time": "2025-05-29T18:08:33.922016",
     "status": "completed"
    },
    "tags": []
   },
   "outputs": [
    {
     "data": {
      "text/plain": [
       "<Axes: xlabel='States/UTs/Cities'>"
      ]
     },
     "execution_count": 24,
     "metadata": {},
     "output_type": "execute_result"
    },
    {
     "data": {
      "image/png": "[encoded data removed]",
      "text/plain": [
       "<Figure size 1600x800 with 1 Axes>"
      ]
     },
     "metadata": {},
     "output_type": "display_data"
    }
   ],
   "source": [
    "underage_groups=[\n",
    "    'No. of Victims (Total Rape Cases) upto 10 Years',\n",
    "    'No. of Victims (Total Rape Cases) - 10-14 Years',\n",
    "    'No. of Victims (Total Rape Cases) - 14 - 18 Years'\n",
    "]\n",
    "states_with_underage_victims=df[df['Category']=='State'].groupby('States/UTs/Cities')[underage_groups].sum()\n",
    "states_with_underage_victims['Total']=states_with_underage_victims.sum(axis=1)\n",
    "top_5_states=states_with_underage_victims.sort_values(by='Total',ascending=False).head()\n",
    "top_5_states=top_5_states.drop(columns='Total')\n",
    "top_5_states.plot(kind='bar',stacked=True,color=palette,figsize=(16,8))"
   ]
  },
  {
   "cell_type": "markdown",
   "id": "a34cb4cd",
   "metadata": {
    "papermill": {
     "duration": 0.012131,
     "end_time": "2025-05-29T18:08:34.263336",
     "exception": false,
     "start_time": "2025-05-29T18:08:34.251205",
     "status": "completed"
    },
    "tags": []
   },
   "source": [
    "## 3.7 Total Number of Rape Cases over the years in urban areas, states and union territories"
   ]
  },
  {
   "cell_type": "code",
   "execution_count": 25,
   "id": "dab79b62",
   "metadata": {
    "execution": {
     "iopub.execute_input": "2025-05-29T18:08:34.289453Z",
     "iopub.status.busy": "2025-05-29T18:08:34.289189Z",
     "iopub.status.idle": "2025-05-29T18:08:34.589670Z",
     "shell.execute_reply": "2025-05-29T18:08:34.588721Z"
    },
    "papermill": {
     "duration": 0.3154,
     "end_time": "2025-05-29T18:08:34.591323",
     "exception": false,
     "start_time": "2025-05-29T18:08:34.275923",
     "status": "completed"
    },
    "tags": []
   },
   "outputs": [
    {
     "data": {
      "image/png": "[encoded data removed]",
      "text/plain": [
       "<Figure size 1600x800 with 1 Axes>"
      ]
     },
     "metadata": {},
     "output_type": "display_data"
    }
   ],
   "source": [
    "import numpy as np\n",
    "import matplotlib.pyplot as plt\n",
    "\n",
    "cases_in_urban_areas=df[df['Category'] == 'City'].groupby('Year')['No. of Victims (Total Rape Cases) - Total Victims'].sum()\n",
    "cases_in_states=df[df['Category'] == 'State'].groupby('Year')['No. of Victims (Total Rape Cases) - Total Victims'].sum()\n",
    "cases_in_union_territory=df[df['Category'] == 'Union Territory'].groupby('Year')['No. of Victims (Total Rape Cases) - Total Victims'].sum()\n",
    "years = cases_in_urban_areas.index\n",
    "\n",
    "x=np.arange(len(years))\n",
    "width=0.09\n",
    "\n",
    "\n",
    "plt.figure(figsize=(16, 8))\n",
    "\n",
    "plt.bar(x - width, cases_in_urban_areas.values, width=width, color=palette[2], label='Urban Areas')\n",
    "plt.bar(x, cases_in_states.values, width=width, color=palette[3], label='States')\n",
    "plt.bar(x + width, cases_in_union_territory.values, width=width, color=palette[4], label='Union Territories')\n",
    "\n",
    "plt.xticks(x, years, rotation=90)\n",
    "plt.ylabel('Number of Victims')\n",
    "plt.title('Rape Cases Distribution Over Years')\n",
    "plt.legend()\n",
    "plt.tight_layout()\n",
    "plt.show()\n"
   ]
  }
 ],
 "metadata": {
  "kaggle": {
   "accelerator": "none",
   "dataSources": [
    {
     "datasetId": 7114932,
     "sourceId": 11366604,
     "sourceType": "datasetVersion"
    }
   ],
   "dockerImageVersionId": 31040,
   "isGpuEnabled": false,
   "isInternetEnabled": false,
   "language": "python",
   "sourceType": "notebook"
  },
  "kernelspec": {
   "display_name": "Python 3",
   "language": "python",
   "name": "python3"
  },
  "language_info": {
   "codemirror_mode": {
    "name": "ipython",
    "version": 3
   },
   "file_extension": ".py",
   "mimetype": "text/x-python",
   "name": "python",
   "nbconvert_exporter": "python",
   "pygments_lexer": "ipython3",
   "version": "3.11.11"
  },
  "papermill": {
   "default_parameters": {},
   "duration": 11.13601,
   "end_time": "2025-05-29T18:08:35.225393",
   "environment_variables": {},
   "exception": null,
   "input_path": "__notebook__.ipynb",
   "output_path": "__notebook__.ipynb",
   "parameters": {},
   "start_time": "2025-05-29T18:08:24.089383",
   "version": "2.6.0"
  }
 },
 "nbformat": 4,
 "nbformat_minor": 5
}
